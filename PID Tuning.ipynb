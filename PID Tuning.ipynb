{
  "nbformat": 4,
  "nbformat_minor": 0,
  "metadata": {
    "colab": {
      "provenance": []
    },
    "kernelspec": {
      "name": "python3",
      "display_name": "Python 3"
    },
    "language_info": {
      "name": "python"
    }
  },
  "cells": [
    {
      "cell_type": "markdown",
      "source": [
        "Here K and tau_i are being calculated using genetic algorithm:"
      ],
      "metadata": {
        "id": "mGx9IHgnyW9J"
      }
    },
    {
      "cell_type": "code",
      "execution_count": null,
      "metadata": {
        "id": "OJXjsG-2I_VG"
      },
      "outputs": [],
      "source": [
        "!pip install control"
      ]
    },
    {
      "cell_type": "markdown",
      "source": [
        "Define the given second order transfer function"
      ],
      "metadata": {
        "id": "JcR_muafsH_g"
      }
    },
    {
      "cell_type": "code",
      "source": [
        "import control as ctrl\n",
        "\n",
        "num = [1]\n",
        "den = [20, 10, 1]\n",
        "\n",
        "# Defining the second order plant transfer function\n",
        "plant_tf = ctrl.TransferFunction(num, den)\n",
        "\n",
        "print(\"Plant Transfer Function:\")\n",
        "print(plant_tf)"
      ],
      "metadata": {
        "colab": {
          "base_uri": "https://localhost:8080/"
        },
        "id": "L393SCIDJEeK",
        "outputId": "072f55e3-a18f-47bc-9861-4da957bf27e9"
      },
      "execution_count": null,
      "outputs": [
        {
          "output_type": "stream",
          "name": "stdout",
          "text": [
            "Plant Transfer Function:\n",
            "<TransferFunction>: sys[6]\n",
            "Inputs (1): ['u[0]']\n",
            "Outputs (1): ['y[0]']\n",
            "\n",
            "\n",
            "        1\n",
            "-----------------\n",
            "20 s^2 + 10 s + 1\n",
            "\n"
          ]
        }
      ]
    },
    {
      "cell_type": "markdown",
      "source": [
        "Now we define a time vector from 0 to 30 :"
      ],
      "metadata": {
        "id": "UNzihivHuB0o"
      }
    },
    {
      "cell_type": "code",
      "source": [
        "import numpy as np\n",
        "\n",
        "# Define the time vector\n",
        "t = np.arange(0, 30.01, 0.01)\n",
        "\n",
        "print(\"Time vector:\", t)"
      ],
      "metadata": {
        "colab": {
          "base_uri": "https://localhost:8080/"
        },
        "id": "CmPcRds7JG6w",
        "outputId": "774ba1b0-3131-4e29-815c-426af58cc927"
      },
      "execution_count": null,
      "outputs": [
        {
          "output_type": "stream",
          "name": "stdout",
          "text": [
            "Time vector: [0.000e+00 1.000e-02 2.000e-02 ... 2.998e+01 2.999e+01 3.000e+01]\n"
          ]
        }
      ]
    },
    {
      "cell_type": "markdown",
      "source": [
        "Now we create an unit step input:"
      ],
      "metadata": {
        "id": "swqvP1pGuKVg"
      }
    },
    {
      "cell_type": "code",
      "source": [
        "r = np.ones_like(t)\n",
        "print(\"Step input array \", r)"
      ],
      "metadata": {
        "colab": {
          "base_uri": "https://localhost:8080/"
        },
        "id": "ufB68OyWJI4J",
        "outputId": "b2b82fbc-1b4b-49eb-adc6-9e5a0e6441ab"
      },
      "execution_count": null,
      "outputs": [
        {
          "output_type": "stream",
          "name": "stdout",
          "text": [
            "Step input array  [1. 1. 1. ... 1. 1. 1.]\n"
          ]
        }
      ]
    },
    {
      "cell_type": "markdown",
      "source": [
        "Definitions of the three errors: ITAE, IAE, and ISE:"
      ],
      "metadata": {
        "id": "xJO-lNr7uShP"
      }
    },
    {
      "cell_type": "code",
      "source": [
        "def compute_ITAE(K, plant_tf, r, t):\n",
        "    # Simulate the closed-loop system\n",
        "    controller_tf = ctrl.TransferFunction([K[0]*K[1], K[0]], [K[1], 0])\n",
        "    closed_loop_tf = ctrl.feedback(ctrl.series(controller_tf, plant_tf), 1)\n",
        "    t_sim, y = ctrl.step_response(closed_loop_tf, T=t)\n",
        "\n",
        "    # Compute ITAE criteria\n",
        "    error = r - y\n",
        "    ITAE_value = np.trapz(t_sim * np.abs(error), t_sim)\n",
        "    return ITAE_value\n",
        "\n",
        "def compute_IAE(K,plant_tf,r,t):\n",
        "    # Simulate the closed-loop system\n",
        "    controller_tf = ctrl.TransferFunction([K[0]*K[1], K[0]], [K[1], 0])\n",
        "    closed_loop_tf = ctrl.feedback(ctrl.series(controller_tf, plant_tf), 1)\n",
        "    t_sim, y = ctrl.step_response(closed_loop_tf, T=t)\n",
        "\n",
        "    # Compute IAE criteria\n",
        "    error = r - y\n",
        "    IAE_value = np.trapz(np.abs(error), t_sim)\n",
        "    return IAE_value\n",
        "\n",
        "def compute_ISE(K,plant_tf,r,t):\n",
        "    # Simulate the closed-loop system\n",
        "    controller_tf = ctrl.TransferFunction([K[0]*K[1], K[0]], [K[1], 0])\n",
        "    closed_loop_tf = ctrl.feedback(ctrl.series(controller_tf, plant_tf), 1)\n",
        "    t_sim, y = ctrl.step_response(closed_loop_tf, T=t)\n",
        "\n",
        "    # Compute ISE criteria\n",
        "    error = r - y\n",
        "    ITAE_value = np.trapz(np.abs(error)**2, t_sim)\n",
        "    return ITAE_value\n",
        "\n"
      ],
      "metadata": {
        "id": "NO3mjWKgJLfb"
      },
      "execution_count": null,
      "outputs": []
    },
    {
      "cell_type": "code",
      "source": [
        "!pip install deap"
      ],
      "metadata": {
        "colab": {
          "base_uri": "https://localhost:8080/"
        },
        "id": "ixzw3VVBJRnt",
        "outputId": "8cabd47c-8f20-4429-bf4a-4b215fe2e5fc"
      },
      "execution_count": null,
      "outputs": [
        {
          "output_type": "stream",
          "name": "stdout",
          "text": [
            "Collecting deap\n",
            "  Downloading deap-1.4.1-cp310-cp310-manylinux_2_5_x86_64.manylinux1_x86_64.manylinux_2_17_x86_64.manylinux2014_x86_64.whl (135 kB)\n",
            "\u001b[?25l     \u001b[90m━━━━━━━━━━━━━━━━━━━━━━━━━━━━━━━━━━━━━━━━\u001b[0m \u001b[32m0.0/135.4 kB\u001b[0m \u001b[31m?\u001b[0m eta \u001b[36m-:--:--\u001b[0m\r\u001b[2K     \u001b[91m━━━━━━━━━━━━━━━━━━━━━━━━━━━\u001b[0m\u001b[90m╺\u001b[0m\u001b[90m━━━━━━━━━━━━\u001b[0m \u001b[32m92.2/135.4 kB\u001b[0m \u001b[31m2.4 MB/s\u001b[0m eta \u001b[36m0:00:01\u001b[0m\r\u001b[2K     \u001b[90m━━━━━━━━━━━━━━━━━━━━━━━━━━━━━━━━━━━━━━━━\u001b[0m \u001b[32m135.4/135.4 kB\u001b[0m \u001b[31m2.7 MB/s\u001b[0m eta \u001b[36m0:00:00\u001b[0m\n",
            "\u001b[?25hRequirement already satisfied: numpy in /usr/local/lib/python3.10/dist-packages (from deap) (1.25.2)\n",
            "Installing collected packages: deap\n",
            "Successfully installed deap-1.4.1\n"
          ]
        }
      ]
    },
    {
      "cell_type": "markdown",
      "source": [
        "Now we use deap to solve the problem with the following parameters:\n",
        "\n",
        "*   Population size = 125\n",
        "*   Number of generations = 75\n",
        "*   cross-over probability = 0.35\n",
        "*   mutation probability = 0.30"
      ],
      "metadata": {
        "id": "sKFlcf_7vcKM"
      }
    },
    {
      "cell_type": "code",
      "source": [
        "import numpy as np\n",
        "from deap import creator, base, tools, algorithms\n",
        "\n",
        "# Define the objective function for GA:\n",
        "def ITAE(K):\n",
        "    return compute_ITAE(K, plant_tf, r, t),\n",
        "\n",
        "# Create the deap framework objects\n",
        "creator.create(\"FitnessMin\", base.Fitness, weights=(-1.0,))\n",
        "creator.create(\"Individual\", list, fitness=creator.FitnessMin)\n",
        "\n",
        "toolbox = base.Toolbox()\n",
        "toolbox.register(\"attr_float\", np.random.uniform,-150,150)\n",
        "toolbox.register(\"individual\", tools.initRepeat, creator.Individual, toolbox.attr_float, n=2)  # Assuming 2 parameters\n",
        "toolbox.register(\"population\", tools.initRepeat, list, toolbox.individual)\n",
        "toolbox.register(\"mate\", tools.cxBlend, alpha=0.5)\n",
        "toolbox.register(\"mutate\", tools.mutGaussian, mu=0, sigma=1, indpb=0.1)  # Gaussian mutation\n",
        "toolbox.register(\"select\", tools.selTournament, tournsize=3)  # Tournament selection\n",
        "toolbox.register(\"evaluate\", ITAE)\n",
        "\n",
        "# Genetic Algorithm parameters\n",
        "population_size = 125\n",
        "num_generations = 75\n",
        "\n",
        "def main():\n",
        "    # Create the initial population\n",
        "    population = toolbox.population(n=population_size)\n",
        "\n",
        "    # Run the genetic algorithm\n",
        "    algorithms.eaSimple(population, toolbox, cxpb=0.35, mutpb=0.30, ngen=num_generations, verbose=True)\n",
        "\n",
        "    # Select the best individual\n",
        "    best_individual = tools.selBest(population, k=1)[0]\n",
        "\n",
        "    # Evaluate the best individual to obtain its ITAE value\n",
        "    best_ITAE_value = ITAE(best_individual)[0]\n",
        "\n",
        "    return best_individual, best_ITAE_value\n",
        "\n",
        "if __name__ == \"__main__\":\n",
        "    best_solution, best_ITAE_value = main()\n",
        "    print(\"Best PID parameters:\", best_solution)\n",
        "    print(\"Optimal ITAE value:\", best_ITAE_value)\n"
      ],
      "metadata": {
        "colab": {
          "base_uri": "https://localhost:8080/"
        },
        "id": "sH9R1AccJTPj",
        "outputId": "76e00468-ec7f-4853-b948-0b7ce315d96c"
      },
      "execution_count": null,
      "outputs": [
        {
          "output_type": "stream",
          "name": "stderr",
          "text": [
            "/usr/local/lib/python3.10/dist-packages/deap/creator.py:185: RuntimeWarning: A class named 'FitnessMin' has already been created and it will be overwritten. Consider deleting previous creation of that class or rename it.\n",
            "  warnings.warn(\"A class named '{0}' has already been created and it \"\n",
            "/usr/local/lib/python3.10/dist-packages/deap/creator.py:185: RuntimeWarning: A class named 'Individual' has already been created and it will be overwritten. Consider deleting previous creation of that class or rename it.\n",
            "  warnings.warn(\"A class named '{0}' has already been created and it \"\n"
          ]
        },
        {
          "output_type": "stream",
          "name": "stdout",
          "text": [
            "gen\tnevals\n",
            "0  \t125   \n",
            "1  \t64    \n",
            "2  \t73    \n",
            "3  \t66    \n",
            "4  \t74    \n",
            "5  \t76    \n",
            "6  \t69    \n",
            "7  \t77    \n",
            "8  \t57    \n",
            "9  \t59    \n",
            "10 \t71    \n",
            "11 \t79    \n",
            "12 \t66    \n",
            "13 \t49    \n",
            "14 \t68    \n",
            "15 \t77    \n",
            "16 \t59    \n",
            "17 \t75    \n",
            "18 \t74    \n",
            "19 \t69    \n",
            "20 \t60    \n",
            "21 \t65    \n",
            "22 \t72    \n",
            "23 \t63    \n",
            "24 \t64    \n",
            "25 \t62    \n",
            "26 \t60    \n",
            "27 \t76    \n",
            "28 \t80    \n",
            "29 \t54    \n",
            "30 \t68    \n",
            "31 \t68    \n",
            "32 \t71    \n",
            "33 \t75    \n",
            "34 \t69    \n",
            "35 \t50    \n",
            "36 \t62    \n",
            "37 \t72    \n",
            "38 \t74    \n",
            "39 \t73    \n",
            "40 \t66    \n",
            "41 \t75    \n",
            "42 \t68    \n",
            "43 \t75    \n",
            "44 \t65    \n",
            "45 \t70    \n",
            "46 \t72    \n",
            "47 \t66    \n",
            "48 \t69    \n",
            "49 \t70    \n",
            "50 \t53    \n",
            "51 \t83    \n",
            "52 \t65    \n",
            "53 \t63    \n",
            "54 \t61    \n",
            "55 \t55    \n",
            "56 \t65    \n",
            "57 \t72    \n",
            "58 \t64    \n",
            "59 \t59    \n",
            "60 \t75    \n",
            "61 \t62    \n",
            "62 \t72    \n",
            "63 \t65    \n",
            "64 \t69    \n",
            "65 \t75    \n",
            "66 \t66    \n",
            "67 \t71    \n",
            "68 \t51    \n",
            "69 \t61    \n",
            "70 \t60    \n",
            "71 \t60    \n",
            "72 \t73    \n",
            "73 \t66    \n",
            "74 \t63    \n",
            "75 \t75    \n",
            "Best PID parameters: [287.66216535391, 236.618106832159]\n",
            "Optimal ITAE value: 10.732239112221965\n"
          ]
        }
      ]
    },
    {
      "cell_type": "markdown",
      "source": [
        "We get :\n",
        "*   K = 287.6621\n",
        "*   tau_i = 236.61\n",
        "*   ITAE = 10.73"
      ],
      "metadata": {
        "id": "1o2z1VYmylNs"
      }
    },
    {
      "cell_type": "code",
      "source": [
        "import numpy as np\n",
        "from deap import creator, base, tools, algorithms\n",
        "\n",
        "def IAE(K):\n",
        "    return compute_IAE(K, plant_tf, r, t),\n",
        "\n",
        "# Create the deap framework objects\n",
        "creator.create(\"FitnessMin\", base.Fitness, weights=(-1.0,))\n",
        "creator.create(\"Individual\", list, fitness=creator.FitnessMin)\n",
        "\n",
        "toolbox = base.Toolbox()\n",
        "toolbox.register(\"attr_float\", np.random.uniform,-150,150)\n",
        "toolbox.register(\"individual\", tools.initRepeat, creator.Individual, toolbox.attr_float, n=2)\n",
        "toolbox.register(\"population\", tools.initRepeat, list, toolbox.individual)\n",
        "toolbox.register(\"mate\", tools.cxBlend, alpha=0.5)\n",
        "toolbox.register(\"mutate\", tools.mutGaussian, mu=0, sigma=1, indpb=0.1)  # Gaussian mutation\n",
        "toolbox.register(\"select\", tools.selTournament, tournsize=3)  # Tournament selection\n",
        "toolbox.register(\"evaluate\", IAE)\n",
        "\n",
        "# Genetic Algorithm parameters\n",
        "population_size = 125\n",
        "num_generations = 75\n",
        "\n",
        "def main():\n",
        "    # Create the initial population\n",
        "    population = toolbox.population(n=population_size)\n",
        "\n",
        "    # Run the genetic algorithm\n",
        "    algorithms.eaSimple(population, toolbox, cxpb=0.35, mutpb=0.30, ngen=num_generations, verbose=True)\n",
        "\n",
        "    # Select the best individual\n",
        "    best_individual = tools.selBest(population, k=1)[0]\n",
        "\n",
        "    # Evaluate the best individual to obtain its IAE value\n",
        "    best_IAE_value = IAE(best_individual)[0]\n",
        "\n",
        "    return best_individual, best_IAE_value\n",
        "\n",
        "if __name__ == \"__main__\":\n",
        "    best_solution, best_IAE_value = main()\n",
        "    print(\"Best PID parameters:\", best_solution)\n",
        "    print(\"Optimal IAE value:\", best_IAE_value)\n"
      ],
      "metadata": {
        "colab": {
          "base_uri": "https://localhost:8080/"
        },
        "id": "bXHOmIjKLiAd",
        "outputId": "44090623-8d9b-4126-f064-bbbc8ba52431"
      },
      "execution_count": null,
      "outputs": [
        {
          "output_type": "stream",
          "name": "stdout",
          "text": [
            "gen\tnevals\n",
            "0  \t125   \n",
            "1  \t63    \n",
            "2  \t70    \n",
            "3  \t62    \n",
            "4  \t72    \n",
            "5  \t70    \n",
            "6  \t75    \n",
            "7  \t76    \n",
            "8  \t67    \n",
            "9  \t75    \n",
            "10 \t61    \n",
            "11 \t66    \n",
            "12 \t76    \n",
            "13 \t61    \n",
            "14 \t60    \n",
            "15 \t69    \n",
            "16 \t74    \n",
            "17 \t60    \n",
            "18 \t60    \n",
            "19 \t62    \n",
            "20 \t63    \n",
            "21 \t68    \n",
            "22 \t67    \n",
            "23 \t53    \n",
            "24 \t79    \n",
            "25 \t71    \n",
            "26 \t68    \n",
            "27 \t65    \n",
            "28 \t66    \n",
            "29 \t69    \n",
            "30 \t71    \n",
            "31 \t75    \n",
            "32 \t77    \n",
            "33 \t68    \n",
            "34 \t59    \n",
            "35 \t66    \n",
            "36 \t65    \n",
            "37 \t56    \n",
            "38 \t71    \n",
            "39 \t70    \n",
            "40 \t68    \n",
            "41 \t71    \n",
            "42 \t74    \n",
            "43 \t53    \n",
            "44 \t73    \n",
            "45 \t61    \n",
            "46 \t60    \n",
            "47 \t75    \n",
            "48 \t68    \n",
            "49 \t73    \n",
            "50 \t72    \n",
            "51 \t58    \n",
            "52 \t76    \n",
            "53 \t74    \n",
            "54 \t70    \n",
            "55 \t66    \n",
            "56 \t63    \n",
            "57 \t59    \n",
            "58 \t70    \n",
            "59 \t63    \n",
            "60 \t59    \n",
            "61 \t70    \n",
            "62 \t69    \n",
            "63 \t71    \n",
            "64 \t77    \n",
            "65 \t69    \n",
            "66 \t76    \n",
            "67 \t62    \n",
            "68 \t60    \n",
            "69 \t75    \n",
            "70 \t62    \n",
            "71 \t56    \n",
            "72 \t60    \n",
            "73 \t81    \n",
            "74 \t56    \n",
            "75 \t70    \n",
            "Best PID parameters: [224.42976040627246, -45.648134318835915]\n",
            "Optimal IAE value: 2.5407169709903776\n"
          ]
        }
      ]
    },
    {
      "cell_type": "markdown",
      "source": [
        "We get :\n",
        "*   K = 224.4298\n",
        "*   tau_i = -45.6481\n",
        "*   ITAE = 2.5407"
      ],
      "metadata": {
        "id": "gUQj-p0eyv-g"
      }
    },
    {
      "cell_type": "code",
      "source": [
        "import numpy as np\n",
        "from deap import creator, base, tools, algorithms\n",
        "\n",
        "def ISE(K):\n",
        "    return compute_ISE(K, plant_tf, r, t),\n",
        "\n",
        "creator.create(\"FitnessMin\", base.Fitness, weights=(-1.0,))\n",
        "creator.create(\"Individual\", list, fitness=creator.FitnessMin)\n",
        "\n",
        "toolbox = base.Toolbox()\n",
        "toolbox.register(\"attr_float\", np.random.uniform,-150,150)\n",
        "toolbox.register(\"individual\", tools.initRepeat, creator.Individual, toolbox.attr_float, n=2)\n",
        "toolbox.register(\"population\", tools.initRepeat, list, toolbox.individual)\n",
        "toolbox.register(\"mate\", tools.cxBlend, alpha=0.5)\n",
        "toolbox.register(\"mutate\", tools.mutGaussian, mu=0, sigma=1, indpb=0.1)  # Gaussian mutation\n",
        "toolbox.register(\"select\", tools.selTournament, tournsize=3)  # Tournament selection\n",
        "toolbox.register(\"evaluate\", IAE)\n",
        "\n",
        "# Genetic Algorithm parameters\n",
        "population_size = 125\n",
        "num_generations = 75\n",
        "\n",
        "def main():\n",
        "    # Create the initial population\n",
        "    population = toolbox.population(n=population_size)\n",
        "\n",
        "    # Run the genetic algorithm\n",
        "    algorithms.eaSimple(population, toolbox, cxpb=0.35, mutpb=0.30, ngen=num_generations, verbose=True)\n",
        "\n",
        "    # Select the best individual\n",
        "    best_individual = tools.selBest(population, k=1)[0]\n",
        "\n",
        "    # Evaluate the best individual to obtain its ISE value\n",
        "    best_ISE_value = ISE(best_individual)[0]\n",
        "\n",
        "    return best_individual, best_IAE_value\n",
        "\n",
        "if __name__ == \"__main__\":\n",
        "    best_solution, best_ISE_value = main()\n",
        "    print(\"Best PID parameters:\", best_solution)\n",
        "    print(\"Optimal IAE value:\", best_ISE_value)\n"
      ],
      "metadata": {
        "colab": {
          "base_uri": "https://localhost:8080/"
        },
        "id": "U4UIVoDUO91F",
        "outputId": "b89420c3-bc58-415f-d681-916f04e17a72"
      },
      "execution_count": null,
      "outputs": [
        {
          "output_type": "stream",
          "name": "stdout",
          "text": [
            "gen\tnevals\n",
            "0  \t125   \n",
            "1  \t59    \n",
            "2  \t60    \n",
            "3  \t61    \n",
            "4  \t72    \n",
            "5  \t68    \n",
            "6  \t75    \n",
            "7  \t76    \n",
            "8  \t69    \n",
            "9  \t66    \n",
            "10 \t65    \n",
            "11 \t72    \n",
            "12 \t78    \n",
            "13 \t78    \n",
            "14 \t72    \n",
            "15 \t65    \n",
            "16 \t54    \n",
            "17 \t65    \n",
            "18 \t66    \n",
            "19 \t68    \n",
            "20 \t64    \n",
            "21 \t57    \n",
            "22 \t69    \n",
            "23 \t75    \n",
            "24 \t76    \n",
            "25 \t78    \n",
            "26 \t72    \n",
            "27 \t64    \n",
            "28 \t64    \n",
            "29 \t73    \n",
            "30 \t78    \n",
            "31 \t69    \n",
            "32 \t65    \n",
            "33 \t64    \n",
            "34 \t61    \n",
            "35 \t73    \n",
            "36 \t57    \n",
            "37 \t62    \n",
            "38 \t48    \n",
            "39 \t60    \n",
            "40 \t66    \n",
            "41 \t77    \n",
            "42 \t69    \n",
            "43 \t72    \n",
            "44 \t77    \n",
            "45 \t73    \n",
            "46 \t73    \n",
            "47 \t60    \n",
            "48 \t62    \n",
            "49 \t65    \n",
            "50 \t67    \n",
            "51 \t68    \n",
            "52 \t62    \n",
            "53 \t60    \n",
            "54 \t60    \n",
            "55 \t51    \n",
            "56 \t73    \n",
            "57 \t69    \n",
            "58 \t62    \n",
            "59 \t74    \n",
            "60 \t69    \n",
            "61 \t69    \n",
            "62 \t64    \n",
            "63 \t73    \n",
            "64 \t64    \n",
            "65 \t72    \n",
            "66 \t72    \n",
            "67 \t67    \n",
            "68 \t62    \n",
            "69 \t76    \n",
            "70 \t64    \n",
            "71 \t69    \n",
            "72 \t70    \n",
            "73 \t74    \n",
            "74 \t64    \n",
            "75 \t68    \n",
            "Best PID parameters: [197.95551638177366, -51.15790768512122]\n",
            "Optimal IAE value: 2.5407169709903776\n"
          ]
        }
      ]
    },
    {
      "cell_type": "markdown",
      "source": [
        "We get :\n",
        "*   K = 197.9555\n",
        "*   tau_i = -51.1579\n",
        "*   ITAE = 2.5407"
      ],
      "metadata": {
        "id": "-iWEC72py3lI"
      }
    }
  ]
}