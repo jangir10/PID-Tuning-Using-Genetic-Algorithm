{
  "cells": [
    {
      "cell_type": "markdown",
      "metadata": {
        "id": "mGx9IHgnyW9J"
      },
      "source": [
        "Here K and tau_i are being calculated using genetic algorithm:"
      ]
    },
    {
      "cell_type": "code",
      "execution_count": null,
      "metadata": {
        "id": "OJXjsG-2I_VG"
      },
      "outputs": [],
      "source": [
        "pip install control\n",
        "pip install geneticalgorithm"
      ]
    },
    {
      "cell_type": "markdown",
      "metadata": {
        "id": "JcR_muafsH_g"
      },
      "source": [
        "Define the given second order transfer function"
      ]
    },
    {
      "cell_type": "code",
      "execution_count": null,
      "metadata": {
        "colab": {
          "base_uri": "https://localhost:8080/"
        },
        "id": "L393SCIDJEeK",
        "outputId": "072f55e3-a18f-47bc-9861-4da957bf27e9"
      },
      "outputs": [],
      "source": [
        "import control as ctrl\n",
        "\n",
        "num = [1]\n",
        "den = [20, 10, 1]\n",
        "\n",
        "# Defining the second order plant transfer function\n",
        "plant_tf = ctrl.TransferFunction(num, den)\n",
        "\n",
        "print(\"Plant Transfer Function:\")\n",
        "print(plant_tf)"
      ]
    },
    {
      "cell_type": "markdown",
      "metadata": {
        "id": "UNzihivHuB0o"
      },
      "source": [
        "Now we define a time vector from 0 to 30 :"
      ]
    },
    {
      "cell_type": "code",
      "execution_count": null,
      "metadata": {
        "colab": {
          "base_uri": "https://localhost:8080/"
        },
        "id": "CmPcRds7JG6w",
        "outputId": "774ba1b0-3131-4e29-815c-426af58cc927"
      },
      "outputs": [],
      "source": [
        "import numpy as np\n",
        "\n",
        "# Define the time vector\n",
        "t = np.arange(0, 30.01, 0.01)\n",
        "\n",
        "print(\"Time vector:\", t)"
      ]
    },
    {
      "cell_type": "markdown",
      "metadata": {
        "id": "swqvP1pGuKVg"
      },
      "source": [
        "Now we create an unit step input:"
      ]
    },
    {
      "cell_type": "code",
      "execution_count": null,
      "metadata": {
        "colab": {
          "base_uri": "https://localhost:8080/"
        },
        "id": "ufB68OyWJI4J",
        "outputId": "b2b82fbc-1b4b-49eb-adc6-9e5a0e6441ab"
      },
      "outputs": [],
      "source": [
        "r = np.ones_like(t)\n",
        "print(\"Step input array \", r)"
      ]
    },
    {
      "cell_type": "markdown",
      "metadata": {
        "id": "xJO-lNr7uShP"
      },
      "source": [
        "Definitions of the three errors: ITAE, IAE, and ISE:"
      ]
    },
    {
      "cell_type": "code",
      "execution_count": null,
      "metadata": {
        "id": "NO3mjWKgJLfb"
      },
      "outputs": [],
      "source": [
        "def compute_ITAE(K, plant_tf, r, t):\n",
        "    # Simulate the closed-loop system\n",
        "    controller_tf = ctrl.TransferFunction([K[0]*K[1], K[0]], [K[1], 0])\n",
        "    closed_loop_tf = ctrl.feedback(ctrl.series(controller_tf, plant_tf), 1)\n",
        "    t_sim, y = ctrl.step_response(closed_loop_tf, T=t)\n",
        "\n",
        "    # Compute ITAE criteria\n",
        "    error = r - y\n",
        "    ITAE_value = np.trapz(t_sim * np.abs(error), t_sim)\n",
        "    return ITAE_value\n",
        "\n",
        "def compute_IAE(K,plant_tf,r,t):\n",
        "    # Simulate the closed-loop system\n",
        "    controller_tf = ctrl.TransferFunction([K[0]*K[1], K[0]], [K[1], 0])\n",
        "    closed_loop_tf = ctrl.feedback(ctrl.series(controller_tf, plant_tf), 1)\n",
        "    t_sim, y = ctrl.step_response(closed_loop_tf, T=t)\n",
        "\n",
        "    # Compute IAE criteria\n",
        "    error = r - y\n",
        "    IAE_value = np.trapz(np.abs(error), t_sim)\n",
        "    return IAE_value\n",
        "\n",
        "def compute_ISE(K,plant_tf,r,t):\n",
        "    # Simulate the closed-loop system\n",
        "    controller_tf = ctrl.TransferFunction([K[0]*K[1], K[0]], [K[1], 0])\n",
        "    closed_loop_tf = ctrl.feedback(ctrl.series(controller_tf, plant_tf), 1)\n",
        "    t_sim, y = ctrl.step_response(closed_loop_tf, T=t)\n",
        "\n",
        "    # Compute ISE criteria\n",
        "    error = r - y\n",
        "    ITAE_value = np.trapz(np.abs(error)**2, t_sim)\n",
        "    return ITAE_value"
      ]
    },
    {
      "cell_type": "code",
      "execution_count": null,
      "metadata": {},
      "outputs": [],
      "source": [
        "from geneticalgorithm import geneticalgorithm as ga\n",
        "\n",
        "def fitness_function(K):\n",
        "    objective = compute_ITAE(K,plant_tf, r, t)\n",
        "    return objective\n",
        "\n",
        "\n",
        "varbound = np.array([[0, 20.09],[0, 5],[0,5]])\n",
        "\n",
        "#defining the parameters required for Genetic Algorithm in the following dictionary:\n",
        "algorithm_param = {'max_num_iteration': 50,\\\n",
        "                   'population_size':10,\\\n",
        "                   'mutation_probability':0.3,\\\n",
        "                   'elit_ratio': 0.01,\\\n",
        "                   'crossover_probability': 1,\\\n",
        "                   'parents_portion': 0.3,\\\n",
        "                   'crossover_type':'uniform',\\\n",
        "                   'max_iteration_without_improv':None}\n",
        "\n",
        "# Initialize the genetic algorithm optimizer\n",
        "optimizer = ga(function=fitness_function, dimension=3, variable_type='real', variable_boundaries=varbound, algorithm_parameters=algorithm_param)\n",
        "\n",
        "# Running the genetic algorithm\n",
        "optimizer.run()\n",
        "\n",
        "# Get the best solution\n",
        "best_solution = optimizer.output_dict\n",
        "best_Params = best_solution['variable'] \n",
        "\n",
        "Kp = best_Params[0]\n",
        "Ki = best_Params[1]\n",
        "Kd = best_Params[2]\n",
        "\n",
        "best_objective = best_solution['function'] #minimum ITAE value"
      ]
    }
  ],
  "metadata": {
    "colab": {
      "provenance": []
    },
    "kernelspec": {
      "display_name": "Python 3",
      "name": "python3"
    },
    "language_info": {
      "name": "python"
    }
  },
  "nbformat": 4,
  "nbformat_minor": 0
}
